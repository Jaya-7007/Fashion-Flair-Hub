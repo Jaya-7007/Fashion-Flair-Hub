{
 "cells": [
  {
   "cell_type": "code",
   "execution_count": 1,
   "id": "62b80d69",
   "metadata": {},
   "outputs": [
    {
     "name": "stdout",
     "output_type": "stream",
     "text": [
      "Collecting instaloader\n",
      "  Downloading instaloader-4.14.1-py3-none-any.whl.metadata (6.7 kB)\n",
      "Requirement already satisfied: requests>=2.25 in c:\\users\\loq\\appdata\\local\\programs\\python\\python312\\lib\\site-packages (from instaloader) (2.32.3)\n",
      "Requirement already satisfied: charset-normalizer<4,>=2 in c:\\users\\loq\\appdata\\local\\programs\\python\\python312\\lib\\site-packages (from requests>=2.25->instaloader) (3.4.1)\n",
      "Requirement already satisfied: idna<4,>=2.5 in c:\\users\\loq\\appdata\\local\\programs\\python\\python312\\lib\\site-packages (from requests>=2.25->instaloader) (3.10)\n",
      "Requirement already satisfied: urllib3<3,>=1.21.1 in c:\\users\\loq\\appdata\\local\\programs\\python\\python312\\lib\\site-packages (from requests>=2.25->instaloader) (2.4.0)\n",
      "Requirement already satisfied: certifi>=2017.4.17 in c:\\users\\loq\\appdata\\local\\programs\\python\\python312\\lib\\site-packages (from requests>=2.25->instaloader) (2025.1.31)\n",
      "Downloading instaloader-4.14.1-py3-none-any.whl (67 kB)\n",
      "Installing collected packages: instaloader\n",
      "Successfully installed instaloader-4.14.1\n"
     ]
    },
    {
     "name": "stderr",
     "output_type": "stream",
     "text": [
      "\n",
      "[notice] A new release of pip is available: 25.0.1 -> 25.1.1\n",
      "[notice] To update, run: python.exe -m pip install --upgrade pip\n"
     ]
    }
   ],
   "source": [
    "!pip install instaloader"
   ]
  },
  {
   "cell_type": "code",
   "execution_count": 3,
   "id": "dc61b849",
   "metadata": {},
   "outputs": [
    {
     "name": "stdout",
     "output_type": "stream",
     "text": [
      "Loaded session from C:\\Users\\LOQ\\AppData\\Local\\Instaloader\\session-testingapi2026.\n",
      "Session loaded.\n",
      "\n",
      "Processing #gaming...\n"
     ]
    },
    {
     "name": "stderr",
     "output_type": "stream",
     "text": [
      "JSON Query to api/v1/tags/web_info/: 403 Forbidden - \"fail\" status, message \"login_required\" when accessing https://i.instagram.com/api/v1/tags/web_info/?__a=1&__d=dis&tag_name=gaming [retrying; skip with ^C]\n",
      "JSON Query to api/v1/tags/web_info/: 403 Forbidden - \"fail\" status, message \"login_required\" when accessing https://i.instagram.com/api/v1/tags/web_info/?__a=1&__d=dis&tag_name=gaming [retrying; skip with ^C]\n"
     ]
    },
    {
     "name": "stdout",
     "output_type": "stream",
     "text": [
      "Error processing #gaming: JSON Query to api/v1/tags/web_info/: 403 Forbidden - \"fail\" status, message \"login_required\" when accessing https://i.instagram.com/api/v1/tags/web_info/?__a=1&__d=dis&tag_name=gaming\n",
      "\n",
      "Processing #coding...\n"
     ]
    },
    {
     "name": "stderr",
     "output_type": "stream",
     "text": [
      "JSON Query to api/v1/tags/web_info/: 403 Forbidden - \"fail\" status, message \"login_required\" when accessing https://i.instagram.com/api/v1/tags/web_info/?__a=1&__d=dis&tag_name=coding [retrying; skip with ^C]\n",
      "JSON Query to api/v1/tags/web_info/: 403 Forbidden - \"fail\" status, message \"login_required\" when accessing https://i.instagram.com/api/v1/tags/web_info/?__a=1&__d=dis&tag_name=coding [retrying; skip with ^C]\n"
     ]
    },
    {
     "name": "stdout",
     "output_type": "stream",
     "text": [
      "Error processing #coding: JSON Query to api/v1/tags/web_info/: 403 Forbidden - \"fail\" status, message \"login_required\" when accessing https://i.instagram.com/api/v1/tags/web_info/?__a=1&__d=dis&tag_name=coding\n",
      "\n",
      "Processing #travel...\n"
     ]
    },
    {
     "name": "stderr",
     "output_type": "stream",
     "text": [
      "JSON Query to api/v1/tags/web_info/: 403 Forbidden - \"fail\" status, message \"login_required\" when accessing https://i.instagram.com/api/v1/tags/web_info/?__a=1&__d=dis&tag_name=travel [retrying; skip with ^C]\n",
      "JSON Query to api/v1/tags/web_info/: 403 Forbidden - \"fail\" status, message \"login_required\" when accessing https://i.instagram.com/api/v1/tags/web_info/?__a=1&__d=dis&tag_name=travel [retrying; skip with ^C]\n"
     ]
    },
    {
     "name": "stdout",
     "output_type": "stream",
     "text": [
      "Error processing #travel: JSON Query to api/v1/tags/web_info/: 403 Forbidden - \"fail\" status, message \"login_required\" when accessing https://i.instagram.com/api/v1/tags/web_info/?__a=1&__d=dis&tag_name=travel\n",
      "\n",
      "✅ Download complete.\n"
     ]
    }
   ],
   "source": [
    "import instaloader\n",
    "import getpass\n",
    "import os\n",
    "\n",
    "# Initialize Instaloader\n",
    "L = instaloader.Instaloader(save_metadata=False, post_metadata_txt_pattern='')\n",
    "\n",
    "# --- Login ---\n",
    "username = \"testingapi2026\"\n",
    "password = \"@Mymmm656\"\n",
    "\n",
    "try:\n",
    "    L.load_session_from_file(username)\n",
    "    print(\"Session loaded.\")\n",
    "except FileNotFoundError:\n",
    "    print(\"No saved session found. Logging in...\")\n",
    "    L.login(username, password)\n",
    "    L.save_session_to_file()\n",
    "    print(\"Session saved.\")\n",
    "\n",
    "# --- Define Hashtags ---\n",
    "hashtags = ['gaming', 'coding', 'travel']  # Add more hashtags as needed\n",
    "max_posts = 10  # Limit number of posts per hashtag to avoid hitting rate limits\n",
    "\n",
    "# --- Download Loop ---\n",
    "for tag in hashtags:\n",
    "    print(f\"\\nProcessing #{tag}...\")\n",
    "    try:\n",
    "        hashtag = instaloader.Hashtag.from_name(L.context, tag)\n",
    "        count = 0\n",
    "\n",
    "        for post in hashtag.get_posts():\n",
    "            if post.typename == 'GraphVideo' and post.is_video:\n",
    "                L.download_post(post, target=f\"{tag}_reels\")\n",
    "                count += 1\n",
    "                if count >= max_posts:\n",
    "                    break\n",
    "\n",
    "        if count == 0:\n",
    "            print(f\"No videos found for #{tag}.\")\n",
    "        else:\n",
    "            print(f\"Downloaded {count} video posts for #{tag}.\")\n",
    "\n",
    "    except Exception as e:\n",
    "        print(f\"Error processing #{tag}: {e}\")\n",
    "\n",
    "print(\"\\n✅ Download complete.\")\n"
   ]
  },
  {
   "cell_type": "code",
   "execution_count": null,
   "id": "6cb6143c",
   "metadata": {},
   "outputs": [],
   "source": []
  }
 ],
 "metadata": {
  "kernelspec": {
   "display_name": "Python 3",
   "language": "python",
   "name": "python3"
  },
  "language_info": {
   "codemirror_mode": {
    "name": "ipython",
    "version": 3
   },
   "file_extension": ".py",
   "mimetype": "text/x-python",
   "name": "python",
   "nbconvert_exporter": "python",
   "pygments_lexer": "ipython3",
   "version": "3.12.10"
  }
 },
 "nbformat": 4,
 "nbformat_minor": 5
}
